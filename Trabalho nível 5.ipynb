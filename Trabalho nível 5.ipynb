{
  "nbformat": 4,
  "nbformat_minor": 0,
  "metadata": {
    "colab": {
      "provenance": [],
      "authorship_tag": "ABX9TyMaS9hMdf6xRaOcIvKv3GVn",
      "include_colab_link": true
    },
    "kernelspec": {
      "name": "python3",
      "display_name": "Python 3"
    },
    "language_info": {
      "name": "python"
    }
  },
  "cells": [
    {
      "cell_type": "markdown",
      "metadata": {
        "id": "view-in-github",
        "colab_type": "text"
      },
      "source": [
        "<a href=\"https://colab.research.google.com/github/Erickhenrique04/Desenvolvedor-Full-Stack-Est-cio-/blob/main/C%C3%B3pia_de_Trabalho_vivel_5.ipynb\" target=\"_parent\"><img src=\"https://colab.research.google.com/assets/colab-badge.svg\" alt=\"Open In Colab\"/></a>"
      ]
    },
    {
      "cell_type": "markdown",
      "source": [
        "Aluno: Erick Henrique Alves Silva  - Matricula: 202208558844\n",
        "\n",
        "Turma 2022-03 Mundo 1 - Nível 5.\n",
        "\n",
        "Objetivo:\n",
        "Implementar um programa para gerar dados contendo nomes e pontuações de pessoas. Escreva em arquivos, recupere dados de arquivos, visualize os dados de pontuação das pessoas em histogramas e nuvens de palavras.\n",
        "\n",
        "Trabalho nivel 5 mundo 1."
      ],
      "metadata": {
        "id": "RrlT6L1oXCn7"
      }
    },
    {
      "cell_type": "code",
      "execution_count": null,
      "metadata": {
        "colab": {
          "base_uri": "https://localhost:8080/"
        },
        "id": "XZdQWBr5TRwX",
        "outputId": "ae634c71-2a16-4668-9d70-fb58536bcbd2"
      },
      "outputs": [
        {
          "output_type": "stream",
          "name": "stdout",
          "text": [
            "Looking in indexes: https://pypi.org/simple, https://us-python.pkg.dev/colab-wheels/public/simple/\n",
            "Requirement already satisfied: matplotlib in /usr/local/lib/python3.7/dist-packages (3.2.2)\n",
            "Requirement already satisfied: cycler>=0.10 in /usr/local/lib/python3.7/dist-packages (from matplotlib) (0.11.0)\n",
            "Requirement already satisfied: kiwisolver>=1.0.1 in /usr/local/lib/python3.7/dist-packages (from matplotlib) (1.4.4)\n",
            "Requirement already satisfied: python-dateutil>=2.1 in /usr/local/lib/python3.7/dist-packages (from matplotlib) (2.8.2)\n",
            "Requirement already satisfied: numpy>=1.11 in /usr/local/lib/python3.7/dist-packages (from matplotlib) (1.21.6)\n",
            "Requirement already satisfied: pyparsing!=2.0.4,!=2.1.2,!=2.1.6,>=2.0.1 in /usr/local/lib/python3.7/dist-packages (from matplotlib) (3.0.9)\n",
            "Requirement already satisfied: typing-extensions in /usr/local/lib/python3.7/dist-packages (from kiwisolver>=1.0.1->matplotlib) (4.1.1)\n",
            "Requirement already satisfied: six>=1.5 in /usr/local/lib/python3.7/dist-packages (from python-dateutil>=2.1->matplotlib) (1.15.0)\n"
          ]
        }
      ],
      "source": [
        "!pip install matplotlib\n"
      ]
    },
    {
      "cell_type": "code",
      "source": [
        "!pip install num2words"
      ],
      "metadata": {
        "colab": {
          "base_uri": "https://localhost:8080/"
        },
        "id": "Z2uZPaL_TnCU",
        "outputId": "d1d7911a-93b7-41bd-d131-5c6fc7545731"
      },
      "execution_count": null,
      "outputs": [
        {
          "output_type": "stream",
          "name": "stdout",
          "text": [
            "Looking in indexes: https://pypi.org/simple, https://us-python.pkg.dev/colab-wheels/public/simple/\n",
            "Collecting num2words\n",
            "  Downloading num2words-0.5.12-py3-none-any.whl (125 kB)\n",
            "\u001b[K     |████████████████████████████████| 125 kB 4.5 MB/s \n",
            "\u001b[?25hCollecting docopt>=0.6.2\n",
            "  Downloading docopt-0.6.2.tar.gz (25 kB)\n",
            "Building wheels for collected packages: docopt\n",
            "  Building wheel for docopt (setup.py) ... \u001b[?25l\u001b[?25hdone\n",
            "  Created wheel for docopt: filename=docopt-0.6.2-py2.py3-none-any.whl size=13723 sha256=c8c0a0fee692c2287779c2fbd59442082acac6df765202e086fc9ba407aff650\n",
            "  Stored in directory: /root/.cache/pip/wheels/72/b0/3f/1d95f96ff986c7dfffe46ce2be4062f38ebd04b506c77c81b9\n",
            "Successfully built docopt\n",
            "Installing collected packages: docopt, num2words\n",
            "Successfully installed docopt-0.6.2 num2words-0.5.12\n"
          ]
        }
      ]
    },
    {
      "cell_type": "code",
      "source": [
        "!pip install faker\n"
      ],
      "metadata": {
        "colab": {
          "base_uri": "https://localhost:8080/"
        },
        "id": "rMfJHsS5TnPb",
        "outputId": "ab31c501-c646-4b86-9f39-904fd27ed404"
      },
      "execution_count": null,
      "outputs": [
        {
          "output_type": "stream",
          "name": "stdout",
          "text": [
            "Looking in indexes: https://pypi.org/simple, https://us-python.pkg.dev/colab-wheels/public/simple/\n",
            "Collecting faker\n",
            "  Downloading Faker-15.3.3-py3-none-any.whl (1.6 MB)\n",
            "\u001b[K     |████████████████████████████████| 1.6 MB 3.8 MB/s \n",
            "\u001b[?25hRequirement already satisfied: typing-extensions>=3.10.0.1 in /usr/local/lib/python3.7/dist-packages (from faker) (4.1.1)\n",
            "Requirement already satisfied: python-dateutil>=2.4 in /usr/local/lib/python3.7/dist-packages (from faker) (2.8.2)\n",
            "Requirement already satisfied: six>=1.5 in /usr/local/lib/python3.7/dist-packages (from python-dateutil>=2.4->faker) (1.15.0)\n",
            "Installing collected packages: faker\n",
            "Successfully installed faker-15.3.3\n"
          ]
        }
      ]
    },
    {
      "cell_type": "code",
      "source": [
        "!pip install wordcloud"
      ],
      "metadata": {
        "colab": {
          "base_uri": "https://localhost:8080/"
        },
        "id": "Dzpo4wJPTtk7",
        "outputId": "629c6776-4d0f-4b33-ee75-67dbbec9aac4"
      },
      "execution_count": null,
      "outputs": [
        {
          "output_type": "stream",
          "name": "stdout",
          "text": [
            "Looking in indexes: https://pypi.org/simple, https://us-python.pkg.dev/colab-wheels/public/simple/\n",
            "Requirement already satisfied: wordcloud in /usr/local/lib/python3.7/dist-packages (1.8.2.2)\n",
            "Requirement already satisfied: numpy>=1.6.1 in /usr/local/lib/python3.7/dist-packages (from wordcloud) (1.21.6)\n",
            "Requirement already satisfied: matplotlib in /usr/local/lib/python3.7/dist-packages (from wordcloud) (3.2.2)\n",
            "Requirement already satisfied: pillow in /usr/local/lib/python3.7/dist-packages (from wordcloud) (7.1.2)\n",
            "Requirement already satisfied: kiwisolver>=1.0.1 in /usr/local/lib/python3.7/dist-packages (from matplotlib->wordcloud) (1.4.4)\n",
            "Requirement already satisfied: pyparsing!=2.0.4,!=2.1.2,!=2.1.6,>=2.0.1 in /usr/local/lib/python3.7/dist-packages (from matplotlib->wordcloud) (3.0.9)\n",
            "Requirement already satisfied: python-dateutil>=2.1 in /usr/local/lib/python3.7/dist-packages (from matplotlib->wordcloud) (2.8.2)\n",
            "Requirement already satisfied: cycler>=0.10 in /usr/local/lib/python3.7/dist-packages (from matplotlib->wordcloud) (0.11.0)\n",
            "Requirement already satisfied: typing-extensions in /usr/local/lib/python3.7/dist-packages (from kiwisolver>=1.0.1->matplotlib->wordcloud) (4.1.1)\n",
            "Requirement already satisfied: six>=1.5 in /usr/local/lib/python3.7/dist-packages (from python-dateutil>=2.1->matplotlib->wordcloud) (1.15.0)\n"
          ]
        }
      ]
    },
    {
      "cell_type": "code",
      "source": [
        "#@title Código:\n",
        "from matplotlib import pyplot as plt\n",
        "from faker import Faker\n",
        "from random import randint\n",
        "from time import sleep\n",
        "import pandas\n",
        "from num2words import num2words\n",
        "from wordcloud import WordCloud\n",
        "\n",
        "# Criação de listas que serão usadas\n",
        "leitura = []\n",
        "nomes = []\n",
        "pont = []\n",
        "num = []\n",
        "\n",
        "# Quantos nomes e números deverão ser criados aleatóriamente\n",
        "n = int(input('Quantos nomes gostaria de gerar? '))\n",
        "print('Gerando nomes e números aleatórios...')\n",
        "\n",
        "# Gerar nomes e números aleatórios dentro de um arquivo txt\n",
        "fake = Faker('pt_BR')\n",
        "with open('dados.txt', 'w') as arquivo:\n",
        "    for c in range(0, n):\n",
        "        arquivo.write(f'{fake.name()},{str(randint(1, 10))},')\n",
        "\n",
        "# Ler arquivo txt e lançar em uma lista para ser manipulado\n",
        "with open('dados.txt', 'r') as arquivo:\n",
        "    leitura = arquivo.read().split(',')\n",
        "leitura.pop()  # Remover o último item da lista sendo um lixo gerado pela leitura\n",
        "\n",
        "# Lançar nas listas separadas de nome e números (pontuações)\n",
        "for c in range(0, (n*2), 2):\n",
        "    nomes.append(leitura[c])\n",
        "    pont.append(leitura[c + 1])\n",
        "\n",
        "\n",
        "# Escrever o número por extenso e lançar em uma lista\n",
        "for c in pont:\n",
        "    num.append(num2words(c, lang='pt-br').title())\n",
        "\n",
        "# Gerar uma string única para o wordcloud gerar a núvem\n",
        "palavras = \" \".join(p for p in num)\n",
        "wordcloud = WordCloud(background_color=\"grey\", width=800, height=400).generate(palavras)\n",
        "wordcloud.to_file(\"Nuvem de palavras.jpg\")\n",
        "\n",
        "# Informar itens gerados\n",
        "sleep(1)\n",
        "print('Lista completa gerada:')\n",
        "print(leitura)\n",
        "sleep(0.5)\n",
        "print('Nomes da lista gerada:')\n",
        "print(nomes)\n",
        "sleep(0.5)\n",
        "print('Posição equivalente dos nomes gerados:')\n",
        "print(pont)\n",
        "sleep(0.5)\n",
        "print('Número posição por extenso:')\n",
        "print(num)\n",
        "\n",
        "# Organizar a lista pont\n",
        "pont.sort()\n",
        "pont.sort(key=len)\n",
        "\n",
        "# Gerar gráficos\n",
        "plt.subplot(2, 1, 1)\n",
        "bbin = len(pandas.unique(pont))\n",
        "plt.hist(pont, bbin, density=True, facecolor='blue', label='Histograma das Pontuações')\n",
        "plt.xlabel('Pontuações')\n",
        "plt.ylabel('Probabilidade')\n",
        "plt.grid(True)\n",
        "plt.subplot(2, 1, 2)\n",
        "plt.imshow(wordcloud)\n",
        "plt.axis(\"off\")\n",
        "plt.tight_layout(pad=1)\n",
        "plt.show()"
      ],
      "metadata": {
        "id": "PpZJ6F2-T249"
      },
      "execution_count": null,
      "outputs": []
    },
    {
      "cell_type": "markdown",
      "source": [
        "Análise e conclusão."
      ],
      "metadata": {
        "id": "AvbciY1uXMDW"
      }
    },
    {
      "cell_type": "markdown",
      "source": [
        "Qual a importância de manipular arquivos de texto?\n",
        "\n",
        "R: É de grande importância para qualquer desenvolvedor saber manipular arquivos, seja para fazer backups, consumir uma lista de uma planilha ou por qualquer outro motivo. Consequentemente, na maioria das linguagens de programação existem facilidades para essa manipulação."
      ],
      "metadata": {
        "id": "yu1la77dXRG3"
      }
    },
    {
      "cell_type": "markdown",
      "source": [
        "Qual a importância de visualizar os dados em um histograma?\n",
        "\n",
        "R: Facilitar a visualização de grandes quantidades de dados."
      ],
      "metadata": {
        "id": "gb1urTnyXWpn"
      }
    },
    {
      "cell_type": "code",
      "source": [
        "O que significa a visualização por nuvem de palavras?\n",
        "\n",
        "R: A nuvem de palavras é uma representação visual das palavras e frases mais comuns das respostas abertas."
      ],
      "metadata": {
        "id": "WOdbb9gvXb8T"
      },
      "execution_count": null,
      "outputs": []
    }
  ]
}
